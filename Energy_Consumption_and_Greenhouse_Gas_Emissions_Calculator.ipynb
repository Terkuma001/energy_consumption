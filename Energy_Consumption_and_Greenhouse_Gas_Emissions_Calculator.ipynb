{
  "nbformat": 4,
  "nbformat_minor": 0,
  "metadata": {
    "colab": {
      "provenance": []
    },
    "kernelspec": {
      "name": "python3",
      "display_name": "Python 3"
    },
    "language_info": {
      "name": "python"
    }
  },
  "cells": [
    {
      "cell_type": "code",
      "execution_count": null,
      "metadata": {
        "id": "y4ICLgFxvaZJ"
      },
      "outputs": [],
      "source": [
        "# Example data: energy consumption in watts per hour\n",
        "device_energy = {\n",
        "    'Laptop': 50,\n",
        "    'Smartphone': 5,\n",
        "    'TV': 100\n",
        "}\n",
        "\n",
        "# Conversion factor: grams of CO2 per watt-hour\n",
        "co2_per_wh = 0.5\n",
        "\n",
        "def calculate_energy_and_emissions(device, hours):\n",
        "    \"\"\"\n",
        "    Calculates energy consumption and CO2 emissions for a given device and usage duration.\n",
        "\n",
        "    Parameters:\n",
        "    - device (str): Type of digital device (e.g., 'Laptop', 'Smartphone', 'TV').\n",
        "    - hours (float): Hours of usage.\n",
        "\n",
        "    Returns:\n",
        "    - energy_consumed (float): Estimated energy consumption in watt-hours.\n",
        "    - co2_emitted (float): Estimated CO2 emissions in grams.\n",
        "    \"\"\"\n",
        "    if device in device_energy:\n",
        "        energy_consumed = device_energy[device] * hours\n",
        "        co2_emitted = energy_consumed * co2_per_wh\n",
        "        return energy_consumed, co2_emitted\n",
        "    else:\n",
        "        return None, None\n",
        "\n",
        "# User input\n",
        "device = input(\"Enter the device (Laptop, Smartphone, TV): \")\n",
        "hours = float(input(\"Enter the hours of usage: \"))\n",
        "\n",
        "# Calculate energy consumption and CO2 emissions\n",
        "energy_consumed, co2_emitted = calculate_energy_and_emissions(device, hours)\n",
        "\n",
        "if energy_consumed is not None and co2_emitted is not None:\n",
        "    print(f\"Estimated energy consumption: {energy_consumed} watt-hours\")\n",
        "    print(f\"Estimated CO2 emissions: {co2_emitted} grams\")\n",
        "else:\n",
        "    print(\"Device not found\")\n"
      ]
    }
  ]
}